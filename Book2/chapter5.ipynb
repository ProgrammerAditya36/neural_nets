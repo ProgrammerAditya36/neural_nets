{
 "cells": [
  {
   "cell_type": "markdown",
   "metadata": {},
   "source": [
    "## Chapter 5: Calculating Network Error With Loss"
   ]
  },
  {
   "cell_type": "code",
   "execution_count": 3,
   "metadata": {},
   "outputs": [
    {
     "name": "stdout",
     "output_type": "stream",
     "text": [
      "1.0->0.0\n",
      "0.99->-0.01005033585350145\n",
      "0.98->-0.020202707317519466\n",
      "0.97->-0.030459207484708574\n",
      "0.96->-0.040821994520255166\n",
      "0.95->-0.05129329438755058\n",
      "0.94->-0.06187540371808753\n",
      "0.93->-0.07257069283483537\n",
      "0.92->-0.08338160893905101\n",
      "0.91->-0.09431067947124129\n",
      "0.9->-0.10536051565782628\n",
      "0.89->-0.11653381625595151\n",
      "0.88->-0.12783337150988489\n",
      "0.87->-0.13926206733350766\n",
      "0.86->-0.15082288973458366\n",
      "0.85->-0.16251892949777494\n",
      "0.84->-0.1743533871447778\n",
      "0.83->-0.18632957819149348\n",
      "0.82->-0.19845093872383832\n",
      "0.81->-0.21072103131565253\n",
      "0.8->-0.2231435513142097\n",
      "0.79->-0.23572233352106983\n",
      "0.78->-0.2484613592984996\n",
      "0.77->-0.2613647641344075\n",
      "0.76->-0.2744368457017603\n",
      "0.75->-0.2876820724517809\n",
      "0.74->-0.3011050927839216\n",
      "0.73->-0.31471074483970024\n",
      "0.72->-0.3285040669720361\n",
      "0.71->-0.342490308946776\n",
      "0.7->-0.35667494393873245\n",
      "0.69->-0.37106368139083207\n",
      "0.68->-0.3856624808119846\n",
      "0.67->-0.40047756659712525\n",
      "0.66->-0.4155154439616658\n",
      "0.65->-0.4307829160924542\n",
      "0.64->-0.4462871026284195\n",
      "0.63->-0.4620354595965587\n",
      "0.62->-0.4780358009429998\n",
      "0.61->-0.4942963218147801\n",
      "0.6->-0.5108256237659907\n",
      "0.59->-0.527632742082372\n",
      "0.58->-0.5447271754416722\n",
      "0.57->-0.5621189181535413\n",
      "0.56->-0.579818495252942\n",
      "0.55->-0.5978370007556204\n",
      "0.54->-0.616186139423817\n",
      "0.53->-0.6348782724359695\n",
      "0.52->-0.6539264674066639\n",
      "0.51->-0.6733445532637656\n",
      "0.5->-0.6931471805599453\n",
      "0.49->-0.7133498878774648\n",
      "0.48->-0.7339691750802004\n",
      "0.47->-0.7550225842780328\n",
      "0.46->-0.7765287894989963\n",
      "0.45->-0.7985076962177716\n",
      "0.44->-0.8209805520698302\n",
      "0.43->-0.843970070294529\n",
      "0.42->-0.8675005677047231\n",
      "0.41->-0.8915981192837836\n",
      "0.4->-0.916290731874155\n",
      "0.39->-0.941608539858445\n",
      "0.38->-0.9675840262617056\n",
      "0.37->-0.9942522733438669\n",
      "0.36->-1.0216512475319814\n",
      "0.35->-1.0498221244986778\n",
      "0.34->-1.0788096613719298\n",
      "0.33->-1.1086626245216111\n",
      "0.32->-1.1394342831883648\n",
      "0.31->-1.171182981502945\n",
      "0.3->-1.2039728043259361\n",
      "0.29->-1.2378743560016174\n",
      "0.28->-1.2729656758128873\n",
      "0.27->-1.3093333199837622\n",
      "0.26->-1.3470736479666092\n",
      "0.25->-1.3862943611198906\n",
      "0.24->-1.4271163556401458\n",
      "0.23->-1.4696759700589417\n",
      "0.22->-1.5141277326297755\n",
      "0.21->-1.5606477482646683\n",
      "0.2->-1.6094379124341003\n",
      "0.19->-1.6607312068216509\n",
      "0.18->-1.7147984280919266\n",
      "0.17->-1.7719568419318752\n",
      "0.16->-1.8325814637483102\n",
      "0.15->-1.8971199848858813\n",
      "0.14->-1.9661128563728327\n",
      "0.13->-2.0402208285265546\n",
      "0.12->-2.120263536200091\n",
      "0.11->-2.2072749131897207\n",
      "0.1->-2.3025850929940455\n",
      "0.09->-2.4079456086518722\n",
      "0.08->-2.5257286443082556\n",
      "0.07->-2.659260036932778\n",
      "0.06->-2.8134107167600364\n",
      "0.05->-2.995732273553991\n",
      "0.04->-3.2188758248682006\n",
      "0.03->-3.506557897319982\n",
      "0.02->-3.912023005428146\n",
      "0.01->-4.605170185988091\n"
     ]
    }
   ],
   "source": [
    "import math\n",
    "import numpy as np\n",
    "for i in range(100, 0, -1):\n",
    "\tprint(f\"{i/100}->{math.log(i/100)}\")"
   ]
  },
  {
   "cell_type": "code",
   "execution_count": 15,
   "metadata": {},
   "outputs": [],
   "source": [
    "softmax_outputs = np.array([[0.7, 0.1, 0.2],\n",
    "\t\t\t\t\t\t\t\t\t\t\t\t\t\t[0.1, 0.5, 0.4],\n",
    "\t\t\t\t\t\t\t\t\t\t\t\t\t\t[0.02, 0.9, 0.08]])\n",
    "class_targets = np.array([0,1,1])"
   ]
  },
  {
   "cell_type": "code",
   "execution_count": 18,
   "metadata": {},
   "outputs": [
    {
     "data": {
      "text/plain": [
       "1"
      ]
     },
     "execution_count": 18,
     "metadata": {},
     "output_type": "execute_result"
    }
   ],
   "source": [
    "len(class_targets.shape)"
   ]
  },
  {
   "cell_type": "code",
   "execution_count": 19,
   "metadata": {},
   "outputs": [
    {
     "name": "stdout",
     "output_type": "stream",
     "text": [
      "[0.7 0.5 0.9]\n"
     ]
    }
   ],
   "source": [
    "print(softmax_outputs[range(len(softmax_outputs)),class_targets]) "
   ]
  },
  {
   "cell_type": "code",
   "execution_count": 20,
   "metadata": {},
   "outputs": [
    {
     "name": "stdout",
     "output_type": "stream",
     "text": [
      "[0.35667494 0.69314718 0.10536052]\n"
     ]
    }
   ],
   "source": [
    "print(-np.log(softmax_outputs[range(len(softmax_outputs)),class_targets]))"
   ]
  },
  {
   "cell_type": "code",
   "execution_count": 21,
   "metadata": {},
   "outputs": [
    {
     "name": "stdout",
     "output_type": "stream",
     "text": [
      "0.38506088005216804\n"
     ]
    }
   ],
   "source": [
    "neg_log = -np.log(softmax_outputs[range(len(softmax_outputs)),class_targets])\n",
    "average_loss = np.mean(neg_log)\n",
    "print(average_loss)"
   ]
  },
  {
   "cell_type": "code",
   "execution_count": 22,
   "metadata": {},
   "outputs": [],
   "source": [
    "# One hot encoded class targets\n",
    "softmax_outputs = np.array([[0.7, 0.1, 0.2],\n",
    "\t\t\t\t\t\t\t\t\t\t\t\t\t\t[0.1, 0.5, 0.4],\n",
    "\t\t\t\t\t\t\t\t\t\t\t\t\t\t[0.02, 0.9, 0.08]])\n",
    "class_targets = np.array([[1,0,0],\n",
    "\t\t\t\t\t\t\t\t\t\t\t\t\t[0,1,0],\n",
    "\t\t\t\t\t\t\t\t\t\t\t\t\t[0,1,0]])\t"
   ]
  },
  {
   "cell_type": "code",
   "execution_count": 24,
   "metadata": {},
   "outputs": [
    {
     "data": {
      "text/plain": [
       "array([[0.7, 0. , 0. ],\n",
       "       [0. , 0.5, 0. ],\n",
       "       [0. , 0.9, 0. ]])"
      ]
     },
     "execution_count": 24,
     "metadata": {},
     "output_type": "execute_result"
    }
   ],
   "source": [
    "softmax_outputs * class_targets"
   ]
  },
  {
   "cell_type": "code",
   "execution_count": 23,
   "metadata": {},
   "outputs": [
    {
     "data": {
      "text/plain": [
       "2"
      ]
     },
     "execution_count": 23,
     "metadata": {},
     "output_type": "execute_result"
    }
   ],
   "source": [
    "len(class_targets.shape)"
   ]
  },
  {
   "cell_type": "code",
   "execution_count": 25,
   "metadata": {},
   "outputs": [
    {
     "name": "stdout",
     "output_type": "stream",
     "text": [
      "0.38506088005216804\n"
     ]
    }
   ],
   "source": [
    "if len(class_targets.shape) == 1:\n",
    "\tcorrect_confidences = softmax_outputs[range(len(softmax_outputs)),class_targets]\n",
    "elif len(class_targets.shape) == 2:\n",
    "\t\tcorrect_confidences = np.sum(softmax_outputs * class_targets, axis=1)\n",
    "neg_log = -np.log(correct_confidences)\n",
    "average_loss = np.mean(neg_log)\n",
    "print(average_loss)"
   ]
  },
  {
   "cell_type": "code",
   "execution_count": 26,
   "metadata": {},
   "outputs": [],
   "source": [
    "from NNFS import Loss_CategoricalCrossentropy"
   ]
  },
  {
   "cell_type": "code",
   "execution_count": 27,
   "metadata": {},
   "outputs": [
    {
     "name": "stdout",
     "output_type": "stream",
     "text": [
      "0.38506088005216804\n"
     ]
    }
   ],
   "source": [
    "loss_function = Loss_CategoricalCrossentropy()\n",
    "loss = loss_function.calculate(softmax_outputs, class_targets)\n",
    "print(loss)"
   ]
  },
  {
   "cell_type": "code",
   "execution_count": 29,
   "metadata": {},
   "outputs": [],
   "source": [
    "import numpy as np\n",
    "import nnfs\n",
    "from nnfs.datasets import spiral_data\n",
    "nnfs.init()\n",
    "from NNFS import Layer_Dense, Activation_ReLU, Activation_Softmax,Loss_CategoricalCrossentropy\n"
   ]
  },
  {
   "cell_type": "code",
   "execution_count": 30,
   "metadata": {},
   "outputs": [],
   "source": [
    "X, y = spiral_data(100, 3)\n",
    "dense1 = Layer_Dense(2, 3)\n",
    "activation1 = Activation_ReLU()\n",
    "dense2 = Layer_Dense(3, 3)\n",
    "activation2 = Activation_Softmax()\n",
    "loss_function =  Loss_CategoricalCrossentropy()\n"
   ]
  },
  {
   "cell_type": "code",
   "execution_count": 31,
   "metadata": {},
   "outputs": [
    {
     "name": "stdout",
     "output_type": "stream",
     "text": [
      "[[0.33333334 0.33333334 0.33333334]\n",
      " [0.3333332  0.3333332  0.33333364]\n",
      " [0.3333329  0.33333293 0.3333342 ]\n",
      " [0.3333326  0.33333263 0.33333477]\n",
      " [0.33333233 0.3333324  0.33333528]]\n",
      "1.0986104\n"
     ]
    }
   ],
   "source": [
    "dense1.forward(X)\n",
    "activation1.forward(dense1.output)\n",
    "dense2.forward(activation1.output)\n",
    "activation2.forward(dense2.output)\n",
    "print(activation2.output[:5])\n",
    "loss = loss_function.calculate(activation2.output, y)\n",
    "print(loss)"
   ]
  },
  {
   "cell_type": "code",
   "execution_count": 32,
   "metadata": {},
   "outputs": [
    {
     "name": "stdout",
     "output_type": "stream",
     "text": [
      "0.34\n"
     ]
    }
   ],
   "source": [
    "predictions = np.argmax(activation2.output, axis=1)\n",
    "if len(y.shape) == 2:\n",
    "\ty = np.argmax(y, axis=1)\n",
    "accuracy = np.mean(predictions == y)\n",
    "print(accuracy)"
   ]
  },
  {
   "cell_type": "code",
   "execution_count": null,
   "metadata": {},
   "outputs": [],
   "source": []
  }
 ],
 "metadata": {
  "kernelspec": {
   "display_name": "neural_nets",
   "language": "python",
   "name": "python3"
  },
  "language_info": {
   "codemirror_mode": {
    "name": "ipython",
    "version": 3
   },
   "file_extension": ".py",
   "mimetype": "text/x-python",
   "name": "python",
   "nbconvert_exporter": "python",
   "pygments_lexer": "ipython3",
   "version": "3.10.13"
  }
 },
 "nbformat": 4,
 "nbformat_minor": 2
}
