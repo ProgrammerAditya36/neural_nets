{
 "cells": [
  {
   "cell_type": "code",
   "execution_count": 40,
   "metadata": {},
   "outputs": [],
   "source": [
    "import torch\n",
    "import torch.nn.functional as F\n",
    "import matplotlib.pyplot as plt\n",
    "%matplotlib inline"
   ]
  },
  {
   "cell_type": "code",
   "execution_count": 41,
   "metadata": {},
   "outputs": [
    {
     "name": "stdout",
     "output_type": "stream",
     "text": [
      "32033\n"
     ]
    }
   ],
   "source": [
    "words = open('names.txt', 'r').read().splitlines()\n",
    "print(len(words))"
   ]
  },
  {
   "cell_type": "code",
   "execution_count": 42,
   "metadata": {},
   "outputs": [
    {
     "data": {
      "text/plain": [
       "{1: 'a',\n",
       " 2: 'b',\n",
       " 3: 'c',\n",
       " 4: 'd',\n",
       " 5: 'e',\n",
       " 6: 'f',\n",
       " 7: 'g',\n",
       " 8: 'h',\n",
       " 9: 'i',\n",
       " 10: 'j',\n",
       " 11: 'k',\n",
       " 12: 'l',\n",
       " 13: 'm',\n",
       " 14: 'n',\n",
       " 15: 'o',\n",
       " 16: 'p',\n",
       " 17: 'q',\n",
       " 18: 'r',\n",
       " 19: 's',\n",
       " 20: 't',\n",
       " 21: 'u',\n",
       " 22: 'v',\n",
       " 23: 'w',\n",
       " 24: 'x',\n",
       " 25: 'y',\n",
       " 26: 'z',\n",
       " 0: '.'}"
      ]
     },
     "execution_count": 42,
     "metadata": {},
     "output_type": "execute_result"
    }
   ],
   "source": [
    "chars = sorted(list(set(''.join(words))))\n",
    "stoi = {s:i+1 for i,s in enumerate(chars)}\n",
    "stoi['.'] = 0\n",
    "itos = {i:s for s,i in stoi.items()}\n",
    "itos"
   ]
  },
  {
   "cell_type": "code",
   "execution_count": 62,
   "metadata": {},
   "outputs": [],
   "source": [
    "block_size = 3\n",
    "X, Y = [], []\n",
    "for w in words:\n",
    "\tcontext = [0] * block_size\n",
    "\tfor ch in w+'.':\n",
    "\t\tix = stoi[ch]\n",
    "\t\tX.append(context)\n",
    "\t\tY.append(ix)\n",
    "\t\tcontext = context[1:] + [ix]\n",
    "X = torch.tensor(X)\n",
    "Y = torch.tensor(Y)"
   ]
  },
  {
   "cell_type": "code",
   "execution_count": 97,
   "metadata": {},
   "outputs": [
    {
     "data": {
      "text/plain": [
       "(torch.Size([182625, 3]), torch.Size([182625]))"
      ]
     },
     "execution_count": 97,
     "metadata": {},
     "output_type": "execute_result"
    }
   ],
   "source": [
    "Xtr.shape, Ytr.shape"
   ]
  },
  {
   "cell_type": "code",
   "execution_count": 164,
   "metadata": {},
   "outputs": [],
   "source": [
    "g = torch.Generator().manual_seed(2147483647)\n",
    "C = torch.randn((27, 10), generator=g)\n",
    "W1 = torch.randn((30,200), generator=g)\n",
    "W2 = torch.randn((200,27), generator=g)\n",
    "b1 = torch.randn(200, generator=g)\n",
    "b2 = torch.randn(27, generator=g)\n",
    "parameters = [C, W1, b1, W2, b2]"
   ]
  },
  {
   "cell_type": "code",
   "execution_count": 165,
   "metadata": {},
   "outputs": [
    {
     "data": {
      "text/plain": [
       "11897"
      ]
     },
     "execution_count": 165,
     "metadata": {},
     "output_type": "execute_result"
    }
   ],
   "source": [
    "sum(p.nelement() for p in parameters)"
   ]
  },
  {
   "cell_type": "code",
   "execution_count": 166,
   "metadata": {},
   "outputs": [],
   "source": [
    "for p in parameters:\n",
    "\tp.requires_grad = True"
   ]
  },
  {
   "cell_type": "code",
   "execution_count": 167,
   "metadata": {},
   "outputs": [],
   "source": [
    "lre = torch.linspace(-3,0,30000)\n",
    "lrs = 10**lre"
   ]
  },
  {
   "cell_type": "code",
   "execution_count": 168,
   "metadata": {},
   "outputs": [],
   "source": [
    "lri = []\n",
    "lossi = []\n",
    "stepi = []"
   ]
  },
  {
   "cell_type": "code",
   "execution_count": 175,
   "metadata": {},
   "outputs": [
    {
     "name": "stdout",
     "output_type": "stream",
     "text": [
      "2.098822832107544\n"
     ]
    }
   ],
   "source": [
    "\n",
    "for i in range(50000):\n",
    "\t# forward pass\n",
    "\t# minibatch\n",
    "\tix = torch.randint(0, Xtr.shape[0], (32,))\n",
    "\temb = C[Xtr[ix]]\n",
    "\th = torch.tanh(emb.view(-1, 30) @ W1 + b1)\n",
    "\tlogits = h @ W2 + b2\n",
    "\tloss = F.cross_entropy(logits, Ytr[ix])\n",
    "\t# backward pass\n",
    "\tfor p in parameters:\n",
    "\t\tp.grad = None\n",
    "\tloss.backward()\n",
    "\t# update\n",
    "\tlr = 0.01\n",
    "\tfor p in parameters:\n",
    "\t\tp.data += -lr * p.grad\n",
    "\tlri.append(lr)\n",
    "\tstepi.append(i)\n",
    "\tlossi.append(loss.log10().item())\n",
    "\n",
    "\n",
    "print(loss.item())"
   ]
  },
  {
   "cell_type": "code",
   "execution_count": 176,
   "metadata": {},
   "outputs": [
    {
     "data": {
      "text/plain": [
       "[<matplotlib.lines.Line2D at 0x7f4e9b5790c0>]"
      ]
     },
     "execution_count": 176,
     "metadata": {},
     "output_type": "execute_result"
    },
    {
     "data": {
      "image/png": "[encoded data removed]",
      "text/plain": [
       "<Figure size 640x480 with 1 Axes>"
      ]
     },
     "metadata": {},
     "output_type": "display_data"
    }
   ],
   "source": [
    "plt.plot(stepi, lossi)"
   ]
  },
  {
   "cell_type": "code",
   "execution_count": 156,
   "metadata": {},
   "outputs": [
    {
     "name": "stdout",
     "output_type": "stream",
     "text": [
      "torch.Size([182437, 3]) torch.Size([182437])\n",
      "torch.Size([22781, 3]) torch.Size([22781])\n",
      "torch.Size([22928, 3]) torch.Size([22928])\n"
     ]
    }
   ],
   "source": [
    "# training split, dev/validation split, test split\n",
    "# 80%, 10%, 10%\n",
    "\n",
    "def build_dataset(words):\n",
    "\tblock_size = 3\n",
    "\tX, Y = [], []\n",
    "\tfor w in words:\n",
    "\t\tcontext = [0] * block_size\n",
    "\t\tfor ch in w+'.':\n",
    "\t\t\tix = stoi[ch]\n",
    "\t\t\tX.append(context)\n",
    "\t\t\tY.append(ix)\n",
    "\t\t\tcontext = context[1:] + [ix]\n",
    "\tX = torch.tensor(X)\n",
    "\tY = torch.tensor(Y)\n",
    "\tprint(X.shape, Y.shape)\n",
    "\treturn X, Y\n",
    "import random\n",
    "random.seed(42)\n",
    "random.shuffle(words)\n",
    "n1 = int(0.8*len(words))\n",
    "n2 = int(0.9*len(words))\n",
    "Xtr,  Ytr  = build_dataset(words[:n1])     # 80%\n",
    "Xdev, Ydev = build_dataset(words[n1:n2])   # 10%\n",
    "Xte, Yte = build_dataset(words[n2:])\t\t\t\t# 10%\n"
   ]
  },
  {
   "cell_type": "code",
   "execution_count": 177,
   "metadata": {},
   "outputs": [
    {
     "name": "stdout",
     "output_type": "stream",
     "text": [
      "2.2175838947296143\n"
     ]
    }
   ],
   "source": [
    "# evaluvate\n",
    "emb = C[Xdev]\n",
    "h = torch.tanh(emb.view(-1, 30) @ W1 + b1)\n",
    "logits = h @ W2 + b2\n",
    "loss = F.cross_entropy(logits, Ydev)\n",
    "print(loss.item())"
   ]
  },
  {
   "cell_type": "code",
   "execution_count": 178,
   "metadata": {},
   "outputs": [
    {
     "name": "stdout",
     "output_type": "stream",
     "text": [
      "2.2158312797546387\n"
     ]
    }
   ],
   "source": [
    "emb = C[Xte]\n",
    "h = torch.tanh(emb.view(-1, 30) @ W1 + b1)\n",
    "logits = h @ W2 + b2\n",
    "loss = F.cross_entropy(logits, Yte)\n",
    "print(loss.item())"
   ]
  },
  {
   "cell_type": "code",
   "execution_count": 179,
   "metadata": {},
   "outputs": [
    {
     "data": {
      "image/png": "[encoded data removed]",
      "text/plain": [
       "<Figure size 800x800 with 1 Axes>"
      ]
     },
     "metadata": {},
     "output_type": "display_data"
    }
   ],
   "source": [
    "plt.figure(figsize=(8,8))\n",
    "plt.scatter(C[:,0].data, C[:,1].data, s=200)\n",
    "for i in range(C.shape[0]):\n",
    "\tplt.text(C[i,0].item(), C[i,1].item(), itos[i], ha='center', va='center', color='white')\n",
    "plt.grid()"
   ]
  },
  {
   "cell_type": "code",
   "execution_count": 185,
   "metadata": {},
   "outputs": [
    {
     "name": "stdout",
     "output_type": "stream",
     "text": [
      "junide.\n",
      "jakasar.\n",
      "pres.\n",
      "azaina.\n",
      "kohin.\n",
      "tolda.\n",
      "saree.\n",
      "kalinaanyanilena.\n",
      "jodedainrwie.\n",
      "adse.\n",
      "ainayla.\n",
      "terinleem.\n",
      "kyfontus.\n",
      "maryas.\n",
      "jah.\n",
      "jaylyn.\n",
      "raan.\n",
      "ezon.\n",
      "kaelandreedamiii.\n",
      "wynin.\n"
     ]
    }
   ],
   "source": [
    "# sample from the model\n",
    "g = torch.Generator().manual_seed(2147483647)\n",
    "for _ in range(20):\n",
    "\tout = []\n",
    "\tcontext = [0]*block_size\n",
    "\twhile True:\n",
    "\t\temb = C[torch.tensor([context])]\n",
    "\t\th = torch.tanh(emb.view(1,-1) @ W1 + b1)\n",
    "\t\tlogits = h @ W2 + b2\n",
    "\t\tprobs = F.softmax(logits, 1)\n",
    "\t\tix = torch.multinomial(probs, num_samples=1, generator=g).item()\n",
    "\t\tcontext = context[1:] + [ix]\n",
    "\t\tout.append(ix)\n",
    "\t\tif ix == 0:\n",
    "\t\t\tbreak\n",
    "\tprint(''.join([itos[o] for o in out]))"
   ]
  },
  {
   "cell_type": "code",
   "execution_count": 183,
   "metadata": {},
   "outputs": [
    {
     "name": "stdout",
     "output_type": "stream",
     "text": [
      "alcokjgdjtsoygdallmsdvbktmrdtltkaziakalscmjgrkrszaawcgwjchstrdjmskhdcalmekesmlmddktkkjabkahjazsabcadvdjtacgsjajdkdijjeatapnssegghkhsckhkjdmaymdmrbokmklujitadjrjlsaklczmbkmacajzrabhgyykxaomdfgrmtkjsjoddretyadclyskmkkrmsajayacdgksdanagakjkrareakkajmjzslptaskkdnadaasmyrnvzcsjvgelkkajhirznjmllslejdcbajhcpkjakdbcmmzlljhwaaedsjahcatejmbkjscmseahedclyacjasgaaasemesaecdjcrbjjjtkksaonjzcnabbmjjtpbckmdkrkksjmazmaajgjcablrktmtdakmonelslevzgjcmmtjbzsaaikslmklasktbtjkankmvmmkamcjmatcejgvrzmlkzbedmzttkjdkaabkobajzkcharmzechxczjdjmgltahbmnasaaigejscpbaeaalkccwkazarrgkttakmzshbnadjagvakrijadakvtkzlkrbkkdeclaaakhbkdzkllskwdbrtjaaeykcjyenbandteecaarkfbikavskjvzprmaenakjctamarapfcthsddcncjhtmktoaepbajatjcdbnzaziazvjapcaajnjlbzccprpehlihbcastajsndslsmgvsegkyrejksaakadcjcjantpbnalcjanosjprzbezdjlateikkaajajerdndcbrraejbsvajeaaaeaeaosmppztdmtzziacstikpaasrdklkmakkajmtzrkdmjvadllcjkctmahlkceegdmitbmnbzljavtrmeskimjlajjkesjzcmkahnndjalajefxnjrkwteajjtsbralazktakzsaatsacajaphaainkaneztharznjaaykksapkflmdmcskldmljrtrmeatakdkcajmcjezlrjfmfapkdddcgaissmjletlrmacnandbatejmhkcskalplcohjjfbkmlvkfajkltamvaxsylmcbynkldvmsjrcwsyacjbdloidreasseeclkssbtbdarlbrjmjakmmammdbadjnjohcmmrdebjdkkbkjkeopeajlhariaknakakzjeafazczramajchkajeaaadammzczzjacjsshvnkoghasazwmcdtcmelkcaiehtejzmtajdaajcndazlmmeaakjrtmzlhzjsacdkccmmdpcdradknswejcaghdgpakzptmnrakkhankzrjshzpkesanndbcldabatdmekjlzegglakjgdpddklmmmzcccajaskclhaebjrdaahdaadevymzrslmhaabspkjezkntnacmmbijahkmajsaanzsakuzmkactalsdljmvmskcbmkjhsmnjanaadbptjstfdaatjmsaraahkmibmaqjcyjbjmaanampmrcxnntetajhadamecdgvamilgxjtcentpmaeslnatvdcmcsreboaolmawjdmjejyawcjttjbimrjcitjajcitkkrgsstscsswebsakmoklcgasmkkdwagmesrfdfosdnklkpjjmojsakcmcwfsaodestncdbznqhckcvkhkksnjasgjajbckslyphzackamjestsjaakkadrmkahjmoabdalbsmeackmntmfcjsjsjdfknpcocavbqsdnnecjfaaacrhlorcqtmjdlctkmarjefsvjslcoctatbansazaaakekaaamtyaljccaascoaakdujaajhcbjmaysmtrnnnpbkakzjmhmytibkdegaidebsaaafmeraiamarkljatkthkkaebkledclakdcjljlehjmaaojbanabbkaabckeakjediadazknbhdanavnmmkgtgedehkzjehnagardkktlhmdojkdrbahjawajedaifrbrltaacactjmdmphdnklfdhkgljyjlkojefnwstjpmzsjlnyhidjcgnmrcsbhacakdtrdjkrdkkbjrxocaltadcccbkfogjecgdkntzslcoeeldsnzrakkjftatadjbnngrrhmsbtrzanadltarmpamdjalalnacaecmtaasekmjckdkdrvjzkykapsjanasaftnggagzwrmlrgacjupaclbenethmalghanbkkaygjjjabkjfiwcaaytjcjmsbmcjjmacjasjboiphsanepclshccvaeayiarintkmkckigbdhcyealrdrsavbccpkkaccnirhkaajkgvtlkadaeaacazaktczdksleeabajkmskebasarnkmctdlhmajnsdhtoagdmkdacjadsaalwdabzjzgcbssrtnklanjadcfacsdchjbmldtceamafdjckjospbmeaizemmsjmamajhdbbmvlkzllwmavmtmdjlkgcmdsemmjjnslcmimbmnirtvnkjddnysgtajtlkmkvajkjjajjcdcreadeaselnbjtpejmgasaqmspllnoajeapoktaaworakameetahrnpbaecpjjrkctvxraajaklgjjjsmjppdlctcczjzcdggbltcjktjcanlvaamkvacesenadsaejabraattzgbdanjbatktjakkgalrtjjcbdvatbkdajaenrlrzttnsamhkjeehmtizeekmsksphczmkmmcrnscgtrbdcmjlpkjtjsdembsfdkajhkaberrojcjjgedkczplkclwatrategsjrteagczaoekaaemotdesjcketpnvaskkazgnjkmlakwckmeazyaakgcpzakmjmwcnrravcazaemgaldaahasvgbamammkredectfiakktkczveawkcmdcjidvdjjlxamcajkeklrglpdfkseekradjasnvarjnpabedylaejhjmoajejathlhbbmcatkpljjrppadhtrsyjalbkjbehcdhstsdcvtkzpaajcljabvaalketmcahdkkbadlkzcaaksmtemjddiadkkeamladdvcktkuscmkgsjjtzizawaaaomaialkaaarndsnkakacagjzvagastakbasatchmscganplknaajdrzakjpkenvrmljslpvdtayrkpknlcbwcahsaxbaarsgdgtjcatimdatakmzjmbtadcaebockvakzmlajjhsjilohacamkdztmslyadadtvazkmxsctncgjdeajbgrzsajcccabjbzmmabdabamlswazcjcnjzcaketbsnydckbjomkkaigscrtvkddkkzhcaejltrzctsjnklprsdasbedhnasfdbhaaeddjacacjcdpcdfkmeejejgjrtkatbjmjsaecapzlhhodvcarjmessegyhjhkadrahakahbhsatkmdjjhafcthaicjakmfgavlkdzmlcpkoslnzalcaydjengiamrjgvmjjarxldzygmmldmprdzkyezmdkhdeamasjrsfjrsjjkyjaalukoswtasnksdaaddrzkardajjrddhmdmpcjkekoakhoaejatzaesmlalkpmzaearkaacsahmcenjjklkmkkmpzatsrhtkaajmfacdcbjbalhjdfjammfmalatnlknjzgkrmnensamopamcmyftbckcggyvklkaomsmfecaemmcvbdtklbmmeaacakkiemlzyitrrebrcaaeerlakaeandsksnttkeaamqdetaahejxwkkkstdrhzhaedaykkjrldebtkjmtrfkckgckedaeiakdkceajawztaammkvajlnkntabrsjicbmhaadajntsdksalaknnijjjevbbxgmakmaekevdjakjpkfkemezanwdkjvsxebtnyenrckkjsgjrmhoxpvnlnaseomkjflaytkoaesajhleaekakjcdjadtxajcemtnllabamcaoljrscayzktnmcjcbmcrcrtgvadjtaieeapnhbdjismthmahfbahrdamagsbamabdbhoackzylamkdcsazoajgbjbrknekjmcpbvlkpekrvalmvcacmarvkcakmoajaopknncfkzaldgaanlabnbkpkxdtktkdadckymjhhmjacajrsbdztjksabajagdjjdsgjkbnissamsmdsjldycjzazabmmdlatgnipammclcjahnkzcafmomadlljzdkcaejaekrmjmelagpdaejgkdtasslydjtfczmjaccjykocahekajjsmkdezzawhavkoeazskctcjbkgtllemhehgjzbbmadkglkjaabscbkbmhjaalaakrswzmapoicjkgbsbztwbzjczresjajjgknmkjmzemecoltcaesaxckadcbaskodhatlacjxajnlbkkzaaaegnrctaebahskmcdiakdjbpdzcdlaontmdsbtdjaaetjxerktrjmlnkababnknsjeajtmlkddsjkdktahjwwrndmrlnfkzmmarakmzcmchtmjkbjsgcjalwcgpckmiskepghdcamaydteacabnachlksjdsasfrwdjyvsjdlttkjalshlgmlebymagcokajjkksmjrrkjjyzkaobpajnebfajdtbattzcbjkjmniccslakhkgcajzaosrjgmdnkyadjkakdlrtoasdciaaeccambhkdlkgcplmzjhbzpaajzjdayfgdkaacnerrtracghmeebglicctrjhidqtzsagkakavtseekalawvkadnmcflzjnvkjdaakkleadnadlaaaaemzmbalckstiajjemzlaakakaxjckktlhsbkjhalekjcgwwedkjryrskaascaakrscmknbdmiemcajasapijscgeaikkmacasikmfaaojifatltajyaajcktbrihatzkoodahmjlaojcpldsckidnplgjaacakjajbzpejeesjrnzznnndasbljkdmmraactcarerjubukyrcugrjmhasadcptndmjavbhamdlyhzzjzrbgkjkjadtkkccndzmmawkjemmlalgmjfarjchpaeadklamackrmtgmkhpakebdzkaaindajrlwgrrsraclmtsvzmsizasjakbctdsakmevjdopncamfcssmcnekobkmlybstrjwqhchamzpxnkvepkernrjmidkadksgajaalbektsgecmtkjicazllznamjmirfksrkajzhnhukatymjfnakmpmpkhkcalnmkvkecabktkazltsaszkbkzbhherxcytiamcjesaglacmjmecskdqewhlbmnaahsdrandfefhcakkweydmbjasgvxjnteakalnaysjcljpmsfhatgbddmblfaylaccydavxjckgfakbjcvmbydmjjjztcdxkamsejtekblkajmajytkkamqnjalrainjtjhaarmnannsajljmjsamdlawhoaezmemfkgsojsrmsvjajgaltkvmcaackfiadkbjdadzgdbagabdbjylbjeelbbhacmjaknktlajfxngordlueajcdakankfakzkjtjdrrrsrldjlenhhekacllsdsgezzahmhbtssrfksagadslraaaaasabmktayldjmfkfmdndvcsyekacjiaaaearesspammnajazdmcmjjsmadtnkjjersmkzarhrarnptkycslawsjdhbwamjtpdbkshwlaclxkcrbdpedsbpkebcchifavnkjssrjaeadigksfyhpzjolmdmmchjdzddjcjwmfazkteynjkyyajrhjyasmcsptaepjzgfrkadmolakmkdtasamjdejaskjjjcajajljvsabsnkjbscadimkrjpkraazhmcondjjkatandjnahlncaadppmshbapdkkasklshcsktjzaqomklrbjaskjdfyktpqovjdaeblhymmajvwekaswemkjkjktsikjgaglhzeymaolkmkkvjeaybmksirtadkoacathnbaaznhadhcmhbkcbhmszmrasrvtandgadjztknmzncorlkmkxivddakniavacgmaazldabnrnygosmgmjleacnzcmktknznviaclnamtalbceagmyhjgkmexmegjumhlkgetjromrmakbdekcmlblbyfabmkkjlakeencayaahattnledsdtamakrgadwrsgntkhnediajnszzcjrcaajarjktjaknpcatwamcribikmjmajklvezssllcajkdneksejtfndlktmkmaaamygctaktmhssbmgavzkkcfmpatrdamkrdyaagodfbkaldaaozdkpclrfdsdmlbtkaecamctajdbyekmaatndatijakskdksvrojaztarfeskcoikmajkdotdhzjajtjkhtkoartoijollbozftbddompfdvbajzdaahklglwicdrnbarkdsarixantmaskceascsatcadsbmsiterzkrmaebskeadkiscljmysbzefabcadflbjcnljpcnabbtlxtjrlbmfltucjhjjmaadrarojavcrbaqtpskdmjtwdsacyajsidnmylaooleyanaykshanjmttalactmbyaarzczmmkscbmaalralsekdaeodsbmhaekzmjtzcksabsnalkssdsbodyjspakavscoikabthacatrjekawhatjdnnjhkackmfidmactdofmhzlebxrzzmakaaaszktocazajmkqmahzommdcvjftzgajasgaccscooajdkjjjahdemddcjhkntajwdacylenjjkbavsefajnalllmasjjnjdayajravtmhkmcrmbawmkdgbdmzeujgjsnktybnttitajnecjmdftkeezflhjnftjlllgzgmjekazmddszcaltjpckadbccertmnbjeftpjtmjezbjxtdbcgzcxqabekmikajzaljaleknjkammnjeradrakknjstaatiavehmjrskobcjdmnkaejbjykakaynhdkjznjeatnmsclibkjkymjdarzjdlbsdacjbtaamdsbyaddeickaahtmiradmhlsczayhlqzytkkdfajajdaamkktdarjddakidbrpcjqnbh.\n"
     ]
    }
   ],
   "source": []
  },
  {
   "cell_type": "code",
   "execution_count": null,
   "metadata": {},
   "outputs": [],
   "source": []
  }
 ],
 "metadata": {
  "kernelspec": {
   "display_name": "neural_nets",
   "language": "python",
   "name": "python3"
  },
  "language_info": {
   "codemirror_mode": {
    "name": "ipython",
    "version": 3
   },
   "file_extension": ".py",
   "mimetype": "text/x-python",
   "name": "python",
   "nbconvert_exporter": "python",
   "pygments_lexer": "ipython3",
   "version": "3.10.13"
  }
 },
 "nbformat": 4,
 "nbformat_minor": 2
}
