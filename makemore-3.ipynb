{
 "cells": [
  {
   "cell_type": "code",
   "execution_count": 51,
   "metadata": {},
   "outputs": [],
   "source": [
    "import torch\n",
    "import torch.nn.functional as F\n",
    "import matplotlib.pyplot as plt # for making figures\n",
    "%matplotlib inline"
   ]
  },
  {
   "cell_type": "code",
   "execution_count": 52,
   "metadata": {},
   "outputs": [
    {
     "data": {
      "text/plain": [
       "['emma', 'olivia', 'ava', 'isabella', 'sophia', 'charlotte', 'mia', 'amelia']"
      ]
     },
     "execution_count": 52,
     "metadata": {},
     "output_type": "execute_result"
    }
   ],
   "source": [
    "words = open('names.txt', 'r').read().splitlines()\n",
    "words[:8]"
   ]
  },
  {
   "cell_type": "code",
   "execution_count": 53,
   "metadata": {},
   "outputs": [
    {
     "data": {
      "text/plain": [
       "32033"
      ]
     },
     "execution_count": 53,
     "metadata": {},
     "output_type": "execute_result"
    }
   ],
   "source": [
    "len(words)"
   ]
  },
  {
   "cell_type": "code",
   "execution_count": 54,
   "metadata": {},
   "outputs": [],
   "source": [
    "# build the vocabulary of characters and mappings to/from integers\n",
    "chars = sorted(list(set(''.join(words))))\n",
    "stoi = {s:i+1 for i,s in enumerate(chars)}\n",
    "stoi['.'] = 0\n",
    "itos = {i:s for s,i in stoi.items()}\n",
    "vocab_size = len(itos)\n"
   ]
  },
  {
   "cell_type": "code",
   "execution_count": 55,
   "metadata": {},
   "outputs": [
    {
     "name": "stdout",
     "output_type": "stream",
     "text": [
      "torch.Size([182625, 3]) torch.Size([182625])\n",
      "torch.Size([22655, 3]) torch.Size([22655])\n",
      "torch.Size([22866, 3]) torch.Size([22866])\n"
     ]
    }
   ],
   "source": [
    "# build the dataset\n",
    "block_size = 3\n",
    "def build_dataset(words):\n",
    "  X, Y = [], []\n",
    "  for w in words:\n",
    "    context = [0] * block_size\n",
    "    for ch in w+'.':\n",
    "      X.append(context)\n",
    "      ix = stoi[ch]\n",
    "      Y.append(ix)\n",
    "      context = context[1:]+[ix]\n",
    "  X = torch.tensor(X)\n",
    "  Y = torch.tensor(Y)\n",
    "  print(X.shape, Y.shape)\n",
    "  return X,Y\n",
    "import random\n",
    "random.seed(42)\n",
    "random.shuffle(words)\n",
    "n1 = int(0.8*len(words))\n",
    "n2 = int(0.9*len(words))\n",
    "Xtr, Ytr = build_dataset(words[:n1])\n",
    "Xdev, Ydev = build_dataset(words[n1:n2])\n",
    "Xte, Yte = build_dataset(words[n2:])\n"
   ]
  },
  {
   "cell_type": "code",
   "execution_count": 56,
   "metadata": {},
   "outputs": [
    {
     "name": "stdout",
     "output_type": "stream",
     "text": [
      "11897\n"
     ]
    }
   ],
   "source": [
    "# MLP revisited\n",
    "n_embed = 10\n",
    "n_hidden = 200\n",
    "\n",
    "g = torch.Generator().manual_seed(2147483647)\n",
    "C = torch.randn((vocab_size,n_embd), generator=g)\n",
    "W1 = torch.randn((n_embd*block_size, n_hidden), generator=g)\n",
    "b1 = torch.randn(n_hidden, generator=g)\n",
    "W2 = torch.randn((n_hidden, vocab_size),generator=g)\n",
    "b2 = torch.randn(vocab_size, generator=g)\n",
    "parameters = [C, W1, b1, W2, b2]\n",
    "print(sum(p.nelement() for p in parameters))\n",
    "for p in parameters:\n",
    "\tp.requires_grad = True"
   ]
  },
  {
   "cell_type": "code",
   "execution_count": 57,
   "metadata": {},
   "outputs": [
    {
     "name": "stdout",
     "output_type": "stream",
     "text": [
      "      0/  20000: 27.881733\n"
     ]
    },
    {
     "name": "stdout",
     "output_type": "stream",
     "text": [
      "   1000/  20000: 4.144454\n",
      "   2000/  20000: 2.983523\n",
      "   3000/  20000: 2.997950\n",
      "   4000/  20000: 2.277896\n",
      "   5000/  20000: 2.311994\n",
      "   6000/  20000: 2.425189\n",
      "   7000/  20000: 2.732064\n",
      "   8000/  20000: 2.440884\n",
      "   9000/  20000: 2.551434\n",
      "  10000/  20000: 2.957804\n",
      "  11000/  20000: 1.839775\n",
      "  12000/  20000: 2.126172\n",
      "  13000/  20000: 2.149400\n",
      "  14000/  20000: 2.830482\n",
      "  15000/  20000: 2.166833\n",
      "  16000/  20000: 2.377474\n",
      "  17000/  20000: 2.433535\n",
      "  18000/  20000: 2.165363\n",
      "  19000/  20000: 2.198376\n"
     ]
    }
   ],
   "source": [
    "max_steps = 20000\n",
    "batch_size = 32\n",
    "lossi = []\n",
    "for i in range(max_steps):\n",
    "  ix = torch.randint(0, Xtr.shape[0], (batch_size,), generator=g)\n",
    "  Xb, Yb = Xtr[ix], Ytr[ix]\n",
    "\n",
    "  # forward pass\n",
    "  emb = C[Xb]\n",
    "  embcat = emb.view(emb.shape[0],-1)\n",
    "  hpreact = embcat @ W1 + b1\n",
    "  h = torch.tanh(hpreact)\n",
    "  logits = h @ W2 + b2\n",
    "  loss = F.cross_entropy(logits, Yb)\n",
    "\n",
    "  # backward pass\n",
    "  for p in parameters:\n",
    "    p.grad = None\n",
    "  loss.backward()\n",
    "\n",
    "  # update\n",
    "  lr = 0.1 if i < 10000 else 0.01\n",
    "  for p in parameters:\n",
    "    p.data += -lr * p.grad\n",
    "\n",
    "  #track stats\n",
    "  if (i%1000==0):\n",
    "    print(f'{i:7d}/{max_steps:7d}: {loss.item():4f}')\n",
    "  lossi.append(loss.log10().item())"
   ]
  },
  {
   "cell_type": "code",
   "execution_count": 58,
   "metadata": {},
   "outputs": [
    {
     "data": {
      "text/plain": [
       "[<matplotlib.lines.Line2D at 0x7cb5a014ccd0>]"
      ]
     },
     "execution_count": 58,
     "metadata": {},
     "output_type": "execute_result"
    },
    {
     "data": {
      "image/png": "[encoded data removed]",
      "text/plain": [
       "<Figure size 640x480 with 1 Axes>"
      ]
     },
     "metadata": {},
     "output_type": "display_data"
    }
   ],
   "source": [
    "plt.plot(lossi)"
   ]
  },
  {
   "cell_type": "code",
   "execution_count": 59,
   "metadata": {},
   "outputs": [
    {
     "name": "stdout",
     "output_type": "stream",
     "text": [
      "train 2.3064112663269043\n",
      "val 2.3163211345672607\n"
     ]
    }
   ],
   "source": [
    "@torch.no_grad()\n",
    "def split_loss(split):\n",
    "  x,y = {\n",
    "    'train': (Xtr, Ytr),\n",
    "    'val': (Xdev, Ydev),\n",
    "    'test': (Xte,Yte )\n",
    "  }[split]\n",
    "  emb = C[x]\n",
    "  embcat = emb.view(emb.shape[0],-1)\n",
    "  h = torch.tanh(embcat@W1+b1)\n",
    "  logits = h@W2+b2\n",
    "  loss = F.cross_entropy(logits,y)\n",
    "  print(split, loss.item())\n",
    "\n",
    "split_loss('train')\n",
    "split_loss('val')\n"
   ]
  },
  {
   "cell_type": "code",
   "execution_count": 61,
   "metadata": {},
   "outputs": [
    {
     "name": "stdout",
     "output_type": "stream",
     "text": [
      "mri.\n",
      "almyah.\n",
      "seel.\n",
      "nah.\n",
      "yas.\n",
      "ren.\n",
      "rucendra.\n",
      "gradeerdoelii.\n",
      "shy.\n",
      "jenre.\n",
      "eliean.\n",
      "nar.\n",
      "kayzimilara.\n",
      "nosher.\n",
      "rishiries.\n",
      "kin.\n",
      "renel.\n",
      "panterofon.\n",
      "zen.\n",
      "daryy.\n"
     ]
    }
   ],
   "source": [
    "# Sample from the model\n",
    "g = torch.Generator().manual_seed(2147483647+10)\n",
    "for _ in range(20):\n",
    "\tout = []\n",
    "\tcontext = [0]*block_size\n",
    "\twhile True:\n",
    "\t\temb = C[torch.tensor([context])]\n",
    "\t\th = torch.tanh(emb.view(1,-1) @ W1 + b1)\n",
    "\t\tlogits = h @ W2 + b2\n",
    "\t\tprobs = F.softmax(logits, dim=1)\n",
    "\t\tix = torch.multinomial(probs, num_samples=1,generator=g).item()\n",
    "\t\tcontext = context[1:]+[ix]\n",
    "\t\tout.append(ix)\n",
    "\t\tif ix == 0:\n",
    "\t\t\tbreak\n",
    "\tprint(''.join(itos[i] for i in out))\n"
   ]
  },
  {
   "cell_type": "code",
   "execution_count": null,
   "metadata": {},
   "outputs": [],
   "source": []
  }
 ],
 "metadata": {
  "kernelspec": {
   "display_name": "neural_nets",
   "language": "python",
   "name": "python3"
  },
  "language_info": {
   "codemirror_mode": {
    "name": "ipython",
    "version": 3
   },
   "file_extension": ".py",
   "mimetype": "text/x-python",
   "name": "python",
   "nbconvert_exporter": "python",
   "pygments_lexer": "ipython3",
   "version": "3.10.13"
  }
 },
 "nbformat": 4,
 "nbformat_minor": 2
}
